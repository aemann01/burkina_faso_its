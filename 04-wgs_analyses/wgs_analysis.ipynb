{
 "cells": [
  {
   "cell_type": "markdown",
   "metadata": {},
   "source": [
    "### Setup"
   ]
  },
  {
   "cell_type": "markdown",
   "metadata": {},
   "source": [
    "1. Load data and create phyloseq object"
   ]
  },
  {
   "cell_type": "code",
   "execution_count": 12,
   "metadata": {},
   "outputs": [
    {
     "data": {
      "text/html": [
       "<table class=\"dataframe\">\n",
       "<caption>A data.frame: 6 × 60</caption>\n",
       "<thead>\n",
       "\t<tr><th></th><th scope=col>Sample_IDs</th><th scope=col>SRA_WGS_accession</th><th scope=col>family</th><th scope=col>individual</th><th scope=col>quartier_name</th><th scope=col>born_tm</th><th scope=col>born_province</th><th scope=col>born_country</th><th scope=col>age_years</th><th scope=col>age_cat</th><th scope=col>⋯</th><th scope=col>riceFreq_cat</th><th scope=col>sodaFreq_cat</th><th scope=col>totalPoultry</th><th scope=col>totalPoultry_cat</th><th scope=col>cq</th><th scope=col>travel_3months</th><th scope=col>travel_location</th><th scope=col>travel_return</th><th scope=col>smoke_frequency</th><th scope=col>Description</th></tr>\n",
       "\t<tr><th></th><th scope=col>&lt;fct&gt;</th><th scope=col>&lt;fct&gt;</th><th scope=col>&lt;int&gt;</th><th scope=col>&lt;int&gt;</th><th scope=col>&lt;fct&gt;</th><th scope=col>&lt;fct&gt;</th><th scope=col>&lt;fct&gt;</th><th scope=col>&lt;fct&gt;</th><th scope=col>&lt;int&gt;</th><th scope=col>&lt;fct&gt;</th><th scope=col>⋯</th><th scope=col>&lt;fct&gt;</th><th scope=col>&lt;fct&gt;</th><th scope=col>&lt;int&gt;</th><th scope=col>&lt;fct&gt;</th><th scope=col>&lt;dbl&gt;</th><th scope=col>&lt;fct&gt;</th><th scope=col>&lt;fct&gt;</th><th scope=col>&lt;fct&gt;</th><th scope=col>&lt;fct&gt;</th><th scope=col>&lt;lgl&gt;</th></tr>\n",
       "</thead>\n",
       "<tbody>\n",
       "\t<tr><th scope=row>SRR13378623 </th><td>TM01-03</td><td>SRR13378623 </td><td>1</td><td>3</td><td>yissouka</td><td>yes</td><td>boulkiemde</td><td>burkina_faso</td><td>18</td><td>young_adult</td><td>⋯</td><td>common    </td><td>common</td><td>17</td><td>low</td><td>11.81</td><td>no </td><td>NA         </td><td>NA   </td><td>never</td><td>NA</td></tr>\n",
       "\t<tr><th scope=row>SRR13378601 </th><td>TM02-02</td><td>SRR13378601 </td><td>2</td><td>2</td><td>yissouka</td><td>no </td><td>boulkiemde</td><td>burkina_faso</td><td>46</td><td>adult      </td><td>⋯</td><td>infrequent</td><td>rare  </td><td>21</td><td>mid</td><td>12.42</td><td>no </td><td>NA         </td><td>NA   </td><td>never</td><td>NA</td></tr>\n",
       "\t<tr><th scope=row>SRR13378590 </th><td>TM02-03</td><td>SRR13378590 </td><td>2</td><td>3</td><td>yissouka</td><td>yes</td><td>boulkiemde</td><td>burkina_faso</td><td>21</td><td>young_adult</td><td>⋯</td><td>common    </td><td>rare  </td><td>21</td><td>mid</td><td>12.90</td><td>no </td><td>NA         </td><td>NA   </td><td>never</td><td>NA</td></tr>\n",
       "\t<tr><th scope=row>SRR13378579 </th><td>TM03-01</td><td>SRR13378579 </td><td>3</td><td>1</td><td>yissouka</td><td>no </td><td>boulkiemde</td><td>burkina_faso</td><td>61</td><td>adult      </td><td>⋯</td><td>common    </td><td>rare  </td><td>30</td><td>mid</td><td>11.94</td><td>yes</td><td>Ouagadougou</td><td>month</td><td>never</td><td>NA</td></tr>\n",
       "\t<tr><th scope=row>SRR13378546 </th><td>TM04-01</td><td>SRR13378546 </td><td>4</td><td>1</td><td>yissouka</td><td>yes</td><td>boulkiemde</td><td>burkina_faso</td><td>69</td><td>elderly    </td><td>⋯</td><td>common    </td><td>never </td><td>40</td><td>mid</td><td>17.52</td><td>yes</td><td>Koudougou  </td><td>week </td><td>never</td><td>NA</td></tr>\n",
       "\t<tr><th scope=row>SRR13378633 </th><td>TM04-02</td><td>SRR13378633 </td><td>4</td><td>2</td><td>yissouka</td><td>no </td><td>sanguie   </td><td>burkina_faso</td><td>52</td><td>adult      </td><td>⋯</td><td>common    </td><td>never </td><td>40</td><td>mid</td><td>14.73</td><td>yes</td><td>Ouagadougou</td><td>month</td><td>never</td><td>NA</td></tr>\n",
       "</tbody>\n",
       "</table>\n"
      ],
      "text/latex": [
       "A data.frame: 6 × 60\n",
       "\\begin{tabular}{r|lllllllllllllllllllll}\n",
       "  & Sample\\_IDs & SRA\\_WGS\\_accession & family & individual & quartier\\_name & born\\_tm & born\\_province & born\\_country & age\\_years & age\\_cat & ⋯ & riceFreq\\_cat & sodaFreq\\_cat & totalPoultry & totalPoultry\\_cat & cq & travel\\_3months & travel\\_location & travel\\_return & smoke\\_frequency & Description\\\\\n",
       "  & <fct> & <fct> & <int> & <int> & <fct> & <fct> & <fct> & <fct> & <int> & <fct> & ⋯ & <fct> & <fct> & <int> & <fct> & <dbl> & <fct> & <fct> & <fct> & <fct> & <lgl>\\\\\n",
       "\\hline\n",
       "\tSRR13378623  & TM01-03 & SRR13378623  & 1 & 3 & yissouka & yes & boulkiemde & burkina\\_faso & 18 & young\\_adult & ⋯ & common     & common & 17 & low & 11.81 & no  & NA          & NA    & never & NA\\\\\n",
       "\tSRR13378601  & TM02-02 & SRR13378601  & 2 & 2 & yissouka & no  & boulkiemde & burkina\\_faso & 46 & adult       & ⋯ & infrequent & rare   & 21 & mid & 12.42 & no  & NA          & NA    & never & NA\\\\\n",
       "\tSRR13378590  & TM02-03 & SRR13378590  & 2 & 3 & yissouka & yes & boulkiemde & burkina\\_faso & 21 & young\\_adult & ⋯ & common     & rare   & 21 & mid & 12.90 & no  & NA          & NA    & never & NA\\\\\n",
       "\tSRR13378579  & TM03-01 & SRR13378579  & 3 & 1 & yissouka & no  & boulkiemde & burkina\\_faso & 61 & adult       & ⋯ & common     & rare   & 30 & mid & 11.94 & yes & Ouagadougou & month & never & NA\\\\\n",
       "\tSRR13378546  & TM04-01 & SRR13378546  & 4 & 1 & yissouka & yes & boulkiemde & burkina\\_faso & 69 & elderly     & ⋯ & common     & never  & 40 & mid & 17.52 & yes & Koudougou   & week  & never & NA\\\\\n",
       "\tSRR13378633  & TM04-02 & SRR13378633  & 4 & 2 & yissouka & no  & sanguie    & burkina\\_faso & 52 & adult       & ⋯ & common     & never  & 40 & mid & 14.73 & yes & Ouagadougou & month & never & NA\\\\\n",
       "\\end{tabular}\n"
      ],
      "text/markdown": [
       "\n",
       "A data.frame: 6 × 60\n",
       "\n",
       "| <!--/--> | Sample_IDs &lt;fct&gt; | SRA_WGS_accession &lt;fct&gt; | family &lt;int&gt; | individual &lt;int&gt; | quartier_name &lt;fct&gt; | born_tm &lt;fct&gt; | born_province &lt;fct&gt; | born_country &lt;fct&gt; | age_years &lt;int&gt; | age_cat &lt;fct&gt; | ⋯ ⋯ | riceFreq_cat &lt;fct&gt; | sodaFreq_cat &lt;fct&gt; | totalPoultry &lt;int&gt; | totalPoultry_cat &lt;fct&gt; | cq &lt;dbl&gt; | travel_3months &lt;fct&gt; | travel_location &lt;fct&gt; | travel_return &lt;fct&gt; | smoke_frequency &lt;fct&gt; | Description &lt;lgl&gt; |\n",
       "|---|---|---|---|---|---|---|---|---|---|---|---|---|---|---|---|---|---|---|---|---|---|\n",
       "| SRR13378623  | TM01-03 | SRR13378623  | 1 | 3 | yissouka | yes | boulkiemde | burkina_faso | 18 | young_adult | ⋯ | common     | common | 17 | low | 11.81 | no  | NA          | NA    | never | NA |\n",
       "| SRR13378601  | TM02-02 | SRR13378601  | 2 | 2 | yissouka | no  | boulkiemde | burkina_faso | 46 | adult       | ⋯ | infrequent | rare   | 21 | mid | 12.42 | no  | NA          | NA    | never | NA |\n",
       "| SRR13378590  | TM02-03 | SRR13378590  | 2 | 3 | yissouka | yes | boulkiemde | burkina_faso | 21 | young_adult | ⋯ | common     | rare   | 21 | mid | 12.90 | no  | NA          | NA    | never | NA |\n",
       "| SRR13378579  | TM03-01 | SRR13378579  | 3 | 1 | yissouka | no  | boulkiemde | burkina_faso | 61 | adult       | ⋯ | common     | rare   | 30 | mid | 11.94 | yes | Ouagadougou | month | never | NA |\n",
       "| SRR13378546  | TM04-01 | SRR13378546  | 4 | 1 | yissouka | yes | boulkiemde | burkina_faso | 69 | elderly     | ⋯ | common     | never  | 40 | mid | 17.52 | yes | Koudougou   | week  | never | NA |\n",
       "| SRR13378633  | TM04-02 | SRR13378633  | 4 | 2 | yissouka | no  | sanguie    | burkina_faso | 52 | adult       | ⋯ | common     | never  | 40 | mid | 14.73 | yes | Ouagadougou | month | never | NA |\n",
       "\n"
      ],
      "text/plain": [
       "             Sample_IDs SRA_WGS_accession family individual quartier_name\n",
       "SRR13378623  TM01-03    SRR13378623       1      3          yissouka     \n",
       "SRR13378601  TM02-02    SRR13378601       2      2          yissouka     \n",
       "SRR13378590  TM02-03    SRR13378590       2      3          yissouka     \n",
       "SRR13378579  TM03-01    SRR13378579       3      1          yissouka     \n",
       "SRR13378546  TM04-01    SRR13378546       4      1          yissouka     \n",
       "SRR13378633  TM04-02    SRR13378633       4      2          yissouka     \n",
       "             born_tm born_province born_country age_years age_cat     ⋯\n",
       "SRR13378623  yes     boulkiemde    burkina_faso 18        young_adult ⋯\n",
       "SRR13378601  no      boulkiemde    burkina_faso 46        adult       ⋯\n",
       "SRR13378590  yes     boulkiemde    burkina_faso 21        young_adult ⋯\n",
       "SRR13378579  no      boulkiemde    burkina_faso 61        adult       ⋯\n",
       "SRR13378546  yes     boulkiemde    burkina_faso 69        elderly     ⋯\n",
       "SRR13378633  no      sanguie       burkina_faso 52        adult       ⋯\n",
       "             riceFreq_cat sodaFreq_cat totalPoultry totalPoultry_cat cq   \n",
       "SRR13378623  common       common       17           low              11.81\n",
       "SRR13378601  infrequent   rare         21           mid              12.42\n",
       "SRR13378590  common       rare         21           mid              12.90\n",
       "SRR13378579  common       rare         30           mid              11.94\n",
       "SRR13378546  common       never        40           mid              17.52\n",
       "SRR13378633  common       never        40           mid              14.73\n",
       "             travel_3months travel_location travel_return smoke_frequency\n",
       "SRR13378623  no             NA              NA            never          \n",
       "SRR13378601  no             NA              NA            never          \n",
       "SRR13378590  no             NA              NA            never          \n",
       "SRR13378579  yes            Ouagadougou     month         never          \n",
       "SRR13378546  yes            Koudougou       week          never          \n",
       "SRR13378633  yes            Ouagadougou     month         never          \n",
       "             Description\n",
       "SRR13378623  NA         \n",
       "SRR13378601  NA         \n",
       "SRR13378590  NA         \n",
       "SRR13378579  NA         \n",
       "SRR13378546  NA         \n",
       "SRR13378633  NA         "
      ]
     },
     "metadata": {},
     "output_type": "display_data"
    }
   ],
   "source": [
    "map <- read.table(\"../03-euk_analyses//map.txt\", header=T, sep=\"\\t\")\n",
    "map <- map[!is.na(map$SRA_WGS_accession), ]\n",
    "rownames(map) <- map$SRA_WGS_accession\n",
    "head(map)"
   ]
  },
  {
   "cell_type": "code",
   "execution_count": 14,
   "metadata": {},
   "outputs": [
    {
     "data": {
      "text/html": [
       "<table class=\"dataframe\">\n",
       "<caption>A data.frame: 6 × 59</caption>\n",
       "<thead>\n",
       "\t<tr><th></th><th scope=col>SRR13378546</th><th scope=col>SRR13378550</th><th scope=col>SRR13378552</th><th scope=col>SRR13378554</th><th scope=col>SRR13378555</th><th scope=col>SRR13378556</th><th scope=col>SRR13378560</th><th scope=col>SRR13378562</th><th scope=col>SRR13378563</th><th scope=col>SRR13378564</th><th scope=col>⋯</th><th scope=col>SRR13378621</th><th scope=col>SRR13378622</th><th scope=col>SRR13378623</th><th scope=col>SRR13378624</th><th scope=col>SRR13378625</th><th scope=col>SRR13378628</th><th scope=col>SRR13378630</th><th scope=col>SRR13378631</th><th scope=col>SRR13378632</th><th scope=col>SRR13378633</th></tr>\n",
       "\t<tr><th></th><th scope=col>&lt;int&gt;</th><th scope=col>&lt;int&gt;</th><th scope=col>&lt;int&gt;</th><th scope=col>&lt;int&gt;</th><th scope=col>&lt;int&gt;</th><th scope=col>&lt;int&gt;</th><th scope=col>&lt;int&gt;</th><th scope=col>&lt;int&gt;</th><th scope=col>&lt;int&gt;</th><th scope=col>&lt;int&gt;</th><th scope=col>⋯</th><th scope=col>&lt;int&gt;</th><th scope=col>&lt;int&gt;</th><th scope=col>&lt;int&gt;</th><th scope=col>&lt;int&gt;</th><th scope=col>&lt;int&gt;</th><th scope=col>&lt;int&gt;</th><th scope=col>&lt;int&gt;</th><th scope=col>&lt;int&gt;</th><th scope=col>&lt;int&gt;</th><th scope=col>&lt;int&gt;</th></tr>\n",
       "</thead>\n",
       "<tbody>\n",
       "\t<tr><th scope=row>S1</th><td>20645</td><td>0</td><td>113</td><td>0</td><td>0</td><td>  0</td><td>0</td><td>131488</td><td>0</td><td>0</td><td>⋯</td><td>309866</td><td>0</td><td>6065</td><td>27985</td><td>21228</td><td>160503</td><td>0</td><td>39</td><td>131266</td><td>0</td></tr>\n",
       "\t<tr><th scope=row>S2</th><td> 2792</td><td>0</td><td>  0</td><td>0</td><td>0</td><td>  0</td><td>0</td><td>     0</td><td>0</td><td>0</td><td>⋯</td><td>     0</td><td>0</td><td>   0</td><td> 3801</td><td>    0</td><td>   455</td><td>0</td><td> 0</td><td>  2847</td><td>0</td></tr>\n",
       "\t<tr><th scope=row>S3</th><td>    0</td><td>0</td><td>  0</td><td>0</td><td>0</td><td>  0</td><td>0</td><td>     0</td><td>0</td><td>0</td><td>⋯</td><td>     0</td><td>0</td><td>   0</td><td>    0</td><td>    0</td><td>     0</td><td>0</td><td> 0</td><td>     0</td><td>0</td></tr>\n",
       "\t<tr><th scope=row>S4</th><td> 5700</td><td>0</td><td>  0</td><td>0</td><td>0</td><td>105</td><td>0</td><td>     0</td><td>0</td><td>0</td><td>⋯</td><td>     0</td><td>0</td><td>   0</td><td>    0</td><td>    0</td><td>     0</td><td>0</td><td> 0</td><td>     0</td><td>0</td></tr>\n",
       "\t<tr><th scope=row>S5</th><td>    0</td><td>0</td><td>  0</td><td>0</td><td>0</td><td>  0</td><td>0</td><td>   204</td><td>0</td><td>0</td><td>⋯</td><td>     0</td><td>0</td><td>   0</td><td>    0</td><td>    0</td><td>     0</td><td>0</td><td> 0</td><td>     0</td><td>0</td></tr>\n",
       "\t<tr><th scope=row>S6</th><td>    0</td><td>0</td><td>  0</td><td>0</td><td>0</td><td>  0</td><td>0</td><td>   206</td><td>0</td><td>0</td><td>⋯</td><td>     0</td><td>0</td><td>   0</td><td>    0</td><td>    0</td><td>     0</td><td>0</td><td> 0</td><td>     0</td><td>0</td></tr>\n",
       "</tbody>\n",
       "</table>\n"
      ],
      "text/latex": [
       "A data.frame: 6 × 59\n",
       "\\begin{tabular}{r|lllllllllllllllllllll}\n",
       "  & SRR13378546 & SRR13378550 & SRR13378552 & SRR13378554 & SRR13378555 & SRR13378556 & SRR13378560 & SRR13378562 & SRR13378563 & SRR13378564 & ⋯ & SRR13378621 & SRR13378622 & SRR13378623 & SRR13378624 & SRR13378625 & SRR13378628 & SRR13378630 & SRR13378631 & SRR13378632 & SRR13378633\\\\\n",
       "  & <int> & <int> & <int> & <int> & <int> & <int> & <int> & <int> & <int> & <int> & ⋯ & <int> & <int> & <int> & <int> & <int> & <int> & <int> & <int> & <int> & <int>\\\\\n",
       "\\hline\n",
       "\tS1 & 20645 & 0 & 113 & 0 & 0 &   0 & 0 & 131488 & 0 & 0 & ⋯ & 309866 & 0 & 6065 & 27985 & 21228 & 160503 & 0 & 39 & 131266 & 0\\\\\n",
       "\tS2 &  2792 & 0 &   0 & 0 & 0 &   0 & 0 &      0 & 0 & 0 & ⋯ &      0 & 0 &    0 &  3801 &     0 &    455 & 0 &  0 &   2847 & 0\\\\\n",
       "\tS3 &     0 & 0 &   0 & 0 & 0 &   0 & 0 &      0 & 0 & 0 & ⋯ &      0 & 0 &    0 &     0 &     0 &      0 & 0 &  0 &      0 & 0\\\\\n",
       "\tS4 &  5700 & 0 &   0 & 0 & 0 & 105 & 0 &      0 & 0 & 0 & ⋯ &      0 & 0 &    0 &     0 &     0 &      0 & 0 &  0 &      0 & 0\\\\\n",
       "\tS5 &     0 & 0 &   0 & 0 & 0 &   0 & 0 &    204 & 0 & 0 & ⋯ &      0 & 0 &    0 &     0 &     0 &      0 & 0 &  0 &      0 & 0\\\\\n",
       "\tS6 &     0 & 0 &   0 & 0 & 0 &   0 & 0 &    206 & 0 & 0 & ⋯ &      0 & 0 &    0 &     0 &     0 &      0 & 0 &  0 &      0 & 0\\\\\n",
       "\\end{tabular}\n"
      ],
      "text/markdown": [
       "\n",
       "A data.frame: 6 × 59\n",
       "\n",
       "| <!--/--> | SRR13378546 &lt;int&gt; | SRR13378550 &lt;int&gt; | SRR13378552 &lt;int&gt; | SRR13378554 &lt;int&gt; | SRR13378555 &lt;int&gt; | SRR13378556 &lt;int&gt; | SRR13378560 &lt;int&gt; | SRR13378562 &lt;int&gt; | SRR13378563 &lt;int&gt; | SRR13378564 &lt;int&gt; | ⋯ ⋯ | SRR13378621 &lt;int&gt; | SRR13378622 &lt;int&gt; | SRR13378623 &lt;int&gt; | SRR13378624 &lt;int&gt; | SRR13378625 &lt;int&gt; | SRR13378628 &lt;int&gt; | SRR13378630 &lt;int&gt; | SRR13378631 &lt;int&gt; | SRR13378632 &lt;int&gt; | SRR13378633 &lt;int&gt; |\n",
       "|---|---|---|---|---|---|---|---|---|---|---|---|---|---|---|---|---|---|---|---|---|---|\n",
       "| S1 | 20645 | 0 | 113 | 0 | 0 |   0 | 0 | 131488 | 0 | 0 | ⋯ | 309866 | 0 | 6065 | 27985 | 21228 | 160503 | 0 | 39 | 131266 | 0 |\n",
       "| S2 |  2792 | 0 |   0 | 0 | 0 |   0 | 0 |      0 | 0 | 0 | ⋯ |      0 | 0 |    0 |  3801 |     0 |    455 | 0 |  0 |   2847 | 0 |\n",
       "| S3 |     0 | 0 |   0 | 0 | 0 |   0 | 0 |      0 | 0 | 0 | ⋯ |      0 | 0 |    0 |     0 |     0 |      0 | 0 |  0 |      0 | 0 |\n",
       "| S4 |  5700 | 0 |   0 | 0 | 0 | 105 | 0 |      0 | 0 | 0 | ⋯ |      0 | 0 |    0 |     0 |     0 |      0 | 0 |  0 |      0 | 0 |\n",
       "| S5 |     0 | 0 |   0 | 0 | 0 |   0 | 0 |    204 | 0 | 0 | ⋯ |      0 | 0 |    0 |     0 |     0 |      0 | 0 |  0 |      0 | 0 |\n",
       "| S6 |     0 | 0 |   0 | 0 | 0 |   0 | 0 |    206 | 0 | 0 | ⋯ |      0 | 0 |    0 |     0 |     0 |      0 | 0 |  0 |      0 | 0 |\n",
       "\n"
      ],
      "text/plain": [
       "   SRR13378546 SRR13378550 SRR13378552 SRR13378554 SRR13378555 SRR13378556\n",
       "S1 20645       0           113         0           0             0        \n",
       "S2  2792       0             0         0           0             0        \n",
       "S3     0       0             0         0           0             0        \n",
       "S4  5700       0             0         0           0           105        \n",
       "S5     0       0             0         0           0             0        \n",
       "S6     0       0             0         0           0             0        \n",
       "   SRR13378560 SRR13378562 SRR13378563 SRR13378564 ⋯ SRR13378621 SRR13378622\n",
       "S1 0           131488      0           0           ⋯ 309866      0          \n",
       "S2 0                0      0           0           ⋯      0      0          \n",
       "S3 0                0      0           0           ⋯      0      0          \n",
       "S4 0                0      0           0           ⋯      0      0          \n",
       "S5 0              204      0           0           ⋯      0      0          \n",
       "S6 0              206      0           0           ⋯      0      0          \n",
       "   SRR13378623 SRR13378624 SRR13378625 SRR13378628 SRR13378630 SRR13378631\n",
       "S1 6065        27985       21228       160503      0           39         \n",
       "S2    0         3801           0          455      0            0         \n",
       "S3    0            0           0            0      0            0         \n",
       "S4    0            0           0            0      0            0         \n",
       "S5    0            0           0            0      0            0         \n",
       "S6    0            0           0            0      0            0         \n",
       "   SRR13378632 SRR13378633\n",
       "S1 131266      0          \n",
       "S2   2847      0          \n",
       "S3      0      0          \n",
       "S4      0      0          \n",
       "S5      0      0          \n",
       "S6      0      0          "
      ]
     },
     "metadata": {},
     "output_type": "display_data"
    }
   ],
   "source": [
    "seqtab <- read.table(\"wgs_seqtable.txt\", header=T, row.names = 1)\n",
    "head(seqtab)"
   ]
  },
  {
   "cell_type": "code",
   "execution_count": 15,
   "metadata": {},
   "outputs": [
    {
     "ename": "ERROR",
     "evalue": "Error in read.table(\"wgs.tax.txt\", header = T, sep = \"\\t\", row.names = 1): more columns than column names\n",
     "output_type": "error",
     "traceback": [
      "Error in read.table(\"wgs.tax.txt\", header = T, sep = \"\\t\", row.names = 1): more columns than column names\nTraceback:\n",
      "1. read.table(\"wgs.tax.txt\", header = T, sep = \"\\t\", row.names = 1)",
      "2. stop(\"more columns than column names\")"
     ]
    }
   ],
   "source": [
    "taxa <- read.table(\"wgs.tax.txt\", header=T, sep=\"\\t\", row.names = 1)\n",
    "head(taxa)"
   ]
  },
  {
   "cell_type": "code",
   "execution_count": null,
   "metadata": {},
   "outputs": [],
   "source": []
  }
 ],
 "metadata": {
  "kernelspec": {
   "display_name": "R",
   "language": "R",
   "name": "ir"
  },
  "language_info": {
   "codemirror_mode": "r",
   "file_extension": ".r",
   "mimetype": "text/x-r-source",
   "name": "R",
   "pygments_lexer": "r",
   "version": "3.6.3"
  }
 },
 "nbformat": 4,
 "nbformat_minor": 4
}
